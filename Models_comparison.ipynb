{
 "cells": [
  {
   "cell_type": "code",
   "execution_count": 1,
   "metadata": {},
   "outputs": [],
   "source": [
    "import numpy as np"
   ]
  },
  {
   "cell_type": "code",
   "execution_count": 2,
   "metadata": {},
   "outputs": [],
   "source": [
    "def load_labels(path):\n",
    "    with open(path, \"r\") as f:\n",
    "        all_preds = f.readlines()\n",
    "    preds_processed = [[int(e) for e in pred.strip('\\n').split()] for pred in all_preds]\n",
    "    return np.array(preds_processed)"
   ]
  },
  {
   "cell_type": "markdown",
   "metadata": {},
   "source": [
    "Load label names"
   ]
  },
  {
   "cell_type": "code",
   "execution_count": 3,
   "metadata": {},
   "outputs": [],
   "source": [
    "with open(\"test_labels.txt\", \"r\") as f:\n",
    "    label_names = f.readlines()[0].split(\" \")"
   ]
  },
  {
   "cell_type": "code",
   "execution_count": 4,
   "metadata": {},
   "outputs": [
    {
     "data": {
      "text/plain": [
       "['Drama',\n",
       " 'Film-Noir',\n",
       " 'Mystery',\n",
       " 'Thriller',\n",
       " 'Adventure',\n",
       " 'Crime',\n",
       " 'Horror',\n",
       " 'Romance',\n",
       " 'Sport',\n",
       " 'Fantasy',\n",
       " 'Biography',\n",
       " 'Action',\n",
       " 'Music',\n",
       " 'War',\n",
       " 'Documentary',\n",
       " 'Short',\n",
       " 'Animation',\n",
       " 'Comedy',\n",
       " 'Family',\n",
       " 'Musical',\n",
       " 'Sci-Fi',\n",
       " 'Western',\n",
       " 'History']"
      ]
     },
     "execution_count": 4,
     "metadata": {},
     "output_type": "execute_result"
    }
   ],
   "source": [
    "label_names"
   ]
  },
  {
   "cell_type": "code",
   "execution_count": 5,
   "metadata": {},
   "outputs": [],
   "source": [
    "label2idx = dict([(name, i) for i, name in enumerate(label_names)])"
   ]
  },
  {
   "cell_type": "markdown",
   "metadata": {},
   "source": [
    "Load test gold predictions"
   ]
  },
  {
   "cell_type": "code",
   "execution_count": 6,
   "metadata": {},
   "outputs": [
    {
     "name": "stdout",
     "output_type": "stream",
     "text": [
      "Preds shape: (7799, 23)\n"
     ]
    }
   ],
   "source": [
    "gold_preds = load_labels(\"model_save_vilbert/vilbert_model_run/test_labels_gold.txt\")\n",
    "print(f\"Preds shape: {gold_preds.shape}\")"
   ]
  },
  {
   "cell_type": "markdown",
   "metadata": {},
   "source": [
    "Count total predictions by label"
   ]
  },
  {
   "cell_type": "code",
   "execution_count": 7,
   "metadata": {},
   "outputs": [
    {
     "data": {
      "text/plain": [
       "[(0, 4142),\n",
       " (1, 102),\n",
       " (2, 617),\n",
       " (3, 1567),\n",
       " (4, 821),\n",
       " (5, 1163),\n",
       " (6, 825),\n",
       " (7, 1590),\n",
       " (8, 191),\n",
       " (9, 585),\n",
       " (10, 411),\n",
       " (11, 1044),\n",
       " (12, 311),\n",
       " (13, 401),\n",
       " (14, 629),\n",
       " (15, 142),\n",
       " (16, 306),\n",
       " (17, 2611),\n",
       " (18, 518),\n",
       " (19, 253),\n",
       " (20, 586),\n",
       " (21, 210),\n",
       " (22, 345)]"
      ]
     },
     "execution_count": 7,
     "metadata": {},
     "output_type": "execute_result"
    }
   ],
   "source": [
    "import collections\n",
    "\n",
    "preds_unfold = []\n",
    "for pred in gold_preds:\n",
    "    preds_unfold.extend(list(np.where(pred == 1)[0]))\n",
    "    \n",
    "counts = collections.Counter(preds_unfold)\n",
    "sorted(counts.items())"
   ]
  },
  {
   "cell_type": "markdown",
   "metadata": {},
   "source": [
    "Get indexes of examples wehre prediction should be made by label\n",
    "\n",
    "indexesByLabel[0] -> Indexes of gold_preds where prediction should be made for class 0 <br>\n",
    "indexesByLabel[1] -> Indexes of gold_preds where prediction should be made for class 1 <br>\n",
    "..."
   ]
  },
  {
   "cell_type": "code",
   "execution_count": 9,
   "metadata": {},
   "outputs": [],
   "source": [
    "indexesByLabel = []\n",
    "for i in range(23):\n",
    "    exampleIndexes = []\n",
    "    for idx, pred in enumerate(gold_preds):\n",
    "        if pred[i] == 1:\n",
    "            exampleIndexes.append(idx)\n",
    "    indexesByLabel.append(exampleIndexes)"
   ]
  },
  {
   "cell_type": "markdown",
   "metadata": {},
   "source": [
    "Load test predictions"
   ]
  },
  {
   "cell_type": "code",
   "execution_count": 10,
   "metadata": {},
   "outputs": [
    {
     "name": "stdout",
     "output_type": "stream",
     "text": [
      "ViLBERT preds shape: (7799, 23)\n",
      "MMBT preds shape: (7799, 23)\n",
      "MMTR preds shape: (7799, 23)\n",
      "MMTRBig preds shape: (7799, 23)\n"
     ]
    }
   ],
   "source": [
    "vilbert_preds = load_labels(\"model_save_vilbert/vilbert_model_run/test_labels_pred.txt\")\n",
    "print(f\"ViLBERT preds shape: {vilbert_preds.shape}\")\n",
    "\n",
    "mmbt_preds = load_labels(\"model_save_mmbt/mmbt_model_run/test_labels_pred.txt\")\n",
    "print(f\"MMBT preds shape: {mmbt_preds.shape}\")\n",
    "\n",
    "mmtr_preds = load_labels(\"model_save_mmtr/mmtr_model_run/test_labels_pred.txt\")\n",
    "print(f\"MMTR preds shape: {mmtr_preds.shape}\")\n",
    "\n",
    "mmtrbig_preds = load_labels(\"model_save_mmtrBig/mmtrBig_model_run/test_labels_pred.txt\")\n",
    "print(f\"MMTRBig preds shape: {mmtrbig_preds.shape}\")"
   ]
  },
  {
   "cell_type": "markdown",
   "metadata": {},
   "source": [
    "Process counts of correct predictions for each label (0, 1, 2, ..., 22)"
   ]
  },
  {
   "cell_type": "code",
   "execution_count": 28,
   "metadata": {},
   "outputs": [],
   "source": [
    "import pandas as pd\n",
    "from sklearn.metrics import f1_score\n",
    "\n",
    "def freqs_dataframe(data_preds, model_name, label_names):\n",
    "    countsLabel = []\n",
    "    \n",
    "    scores = f1_score(gold_preds, data_preds, average=None)\n",
    "    '''\n",
    "    for class_id, idxsList in enumerate(indexesByLabel):\n",
    "        count = 0\n",
    "        for idx in idxsList:\n",
    "            if data_preds[idx][class_id] == 1:\n",
    "                count += 1\n",
    "        countsLabel.append(count/len(idxsList))\n",
    "    '''\n",
    "        \n",
    "    df = pd.DataFrame()\n",
    "    df['label'] = label_names\n",
    "    df['freq'] = list(scores)\n",
    "    df['model'] = [model_name]*len(label_names)\n",
    "            \n",
    "    return df"
   ]
  },
  {
   "cell_type": "code",
   "execution_count": 14,
   "metadata": {},
   "outputs": [],
   "source": [
    "vilbert_freqs = freqs_dataframe(vilbert_preds, \"vilbert\", label_names)\n",
    "mmbt_freqs = freqs_dataframe(mmbt_preds, \"mmbt\", label_names)\n",
    "mmtr_freqs = freqs_dataframe(mmtr_preds, \"mmtr\", label_names)\n",
    "mmtrbig_freqs = freqs_dataframe(mmtrbig_preds, \"mmtr\", label_names)\n",
    "all_models_freqs = pd.concat([vilbert_freqs, mmbt_freqs, mmtrbig_freqs])"
   ]
  },
  {
   "cell_type": "markdown",
   "metadata": {},
   "source": [
    "Plot and compare accuracy per label (movie genre) of all models"
   ]
  },
  {
   "cell_type": "code",
   "execution_count": 176,
   "metadata": {
    "collapsed": true,
    "jupyter": {
     "outputs_hidden": true
    }
   },
   "outputs": [
    {
     "data": {
      "image/png": "[encoded data removed]",
      "text/plain": [
       "<Figure size 432x864 with 1 Axes>"
      ]
     },
     "metadata": {},
     "output_type": "display_data"
    }
   ],
   "source": [
    "import seaborn as sns\n",
    "import matplotlib.pyplot as plt\n",
    "sns.set(style=\"whitegrid\")\n",
    "\n",
    "f, ax = plt.subplots(figsize=(6, 12))\n",
    "\n",
    "\n",
    "sns.set_color_codes(\"muted\")\n",
    "\n",
    "sns.barplot(x=\"freq\", y=\"label\", data=vilbert_freqs,\n",
    "            label=\"ViLBERT\", edgecolor=\"r\", facecolor=(1, 1, 1, 0), linewidth=2.5)\n",
    "\n",
    "ax_bar = sns.barplot(x=\"freq\", y=\"label\", data=mmbt3_freqs,\n",
    "            label=\"mmbt3\", edgecolor=\"b\", facecolor=(1, 1, 1, 0), linewidth=2.5)\n",
    "\n",
    "ax.legend(ncol=2, loc=\"lower right\", frameon=True)\n",
    "ax.set(xlim=(0, 1), ylabel=\"\",\n",
    "       xlabel=\"Accuracy by genre\")\n",
    "sns.despine(left=True, bottom=True)"
   ]
  },
  {
   "cell_type": "markdown",
   "metadata": {},
   "source": [
    "Ordered classses by training frequency from highest to lowest"
   ]
  },
  {
   "cell_type": "code",
   "execution_count": 40,
   "metadata": {},
   "outputs": [],
   "source": [
    "ordered_classes = ['Drama',\n",
    "                 'Comedy',\n",
    "                 'Romance',\n",
    "                 'Thriller',\n",
    "                 'Crime',\n",
    "                 'Action',\n",
    "                 'Adventure',\n",
    "                 'Horror',\n",
    "                 'Documentary',\n",
    "                 'Mystery',\n",
    "                 'Sci-Fi',\n",
    "                 'Fantasy',\n",
    "                 'Family',\n",
    "                 'War',\n",
    "                 'Biography',\n",
    "                 'History',\n",
    "                 'Music',\n",
    "                 'Animation',\n",
    "                 'Musical',\n",
    "                 'Western',\n",
    "                 'Sport',\n",
    "                 'Short',\n",
    "                 'Film-Noir']"
   ]
  },
  {
   "cell_type": "code",
   "execution_count": 17,
   "metadata": {},
   "outputs": [
    {
     "data": {
      "image/png": "[encoded data removed]",
      "text/plain": [
       "<Figure size 432x720 with 1 Axes>"
      ]
     },
     "metadata": {},
     "output_type": "display_data"
    }
   ],
   "source": [
    "import seaborn as sns\n",
    "import matplotlib.pyplot as plt\n",
    "sns.set(style=\"whitegrid\")\n",
    "\n",
    "f, ax = plt.subplots(figsize=(6, 10))\n",
    "ax_points = sns.stripplot(x=\"freq\", y=\"label\", data=all_models_freqs, hue=\"model\", jitter=0, order=ordered_classes)\n",
    "ax.legend(ncol=2, loc=\"upper left\", frameon=True, bbox_to_anchor=(0.99, 1.01))\n",
    "ax.set(xlabel=\"F1 score\", ylabel=\"genre\")\n",
    "\n",
    "for i in range(len(label_names)):\n",
    "    ax_points.axhline(i, color='black', alpha=0.1, lw = 2)"
   ]
  },
  {
   "cell_type": "markdown",
   "metadata": {},
   "source": [
    "Plot correct predictions of each example by label (movie genre)"
   ]
  },
  {
   "cell_type": "code",
   "execution_count": 19,
   "metadata": {},
   "outputs": [],
   "source": [
    "def pred_class_dataframe(data_preds_list, label_id):\n",
    "    binary_preds = []\n",
    "    ids = []\n",
    "    model_name = []\n",
    "    origin_ids = []\n",
    "\n",
    "    for name, data_preds in data_preds_list.items():\n",
    "        for i, idx in enumerate(indexesByLabel[label_id]):\n",
    "            binary_preds.append(1 if data_preds[idx][label_id] == gold_preds[idx][label_id] else 0)\n",
    "            ids.append(i)\n",
    "            model_name.append(name)\n",
    "            origin_ids.append(idx)\n",
    "    \n",
    "    df = pd.DataFrame()\n",
    "    df['result'] = binary_preds\n",
    "    df['id'] = ids\n",
    "    df['model'] = model_name\n",
    "    df['origin_id'] = origin_ids\n",
    "            \n",
    "    return df"
   ]
  },
  {
   "cell_type": "code",
   "execution_count": 26,
   "metadata": {},
   "outputs": [],
   "source": [
    "preds_all_models = {'vilbert': vilbert_preds,\n",
    "                    'mmbt': mmbt_preds,\n",
    "                    'mmtrBig': mmtrbig_preds}\n",
    "\n",
    "results_model = pred_class_dataframe(preds_all_models, label2idx['Film-Noir'])"
   ]
  },
  {
   "cell_type": "code",
   "execution_count": 27,
   "metadata": {},
   "outputs": [
    {
     "data": {
      "text/html": [
       "<div>\n",
       "<style scoped>\n",
       "    .dataframe tbody tr th:only-of-type {\n",
       "        vertical-align: middle;\n",
       "    }\n",
       "\n",
       "    .dataframe tbody tr th {\n",
       "        vertical-align: top;\n",
       "    }\n",
       "\n",
       "    .dataframe thead th {\n",
       "        text-align: right;\n",
       "    }\n",
       "</style>\n",
       "<table border=\"1\" class=\"dataframe\">\n",
       "  <thead>\n",
       "    <tr style=\"text-align: right;\">\n",
       "      <th></th>\n",
       "      <th>result</th>\n",
       "      <th>id</th>\n",
       "      <th>model</th>\n",
       "      <th>origin_id</th>\n",
       "    </tr>\n",
       "  </thead>\n",
       "  <tbody>\n",
       "    <tr>\n",
       "      <th>0</th>\n",
       "      <td>0</td>\n",
       "      <td>0</td>\n",
       "      <td>vilbert</td>\n",
       "      <td>0</td>\n",
       "    </tr>\n",
       "    <tr>\n",
       "      <th>1</th>\n",
       "      <td>0</td>\n",
       "      <td>1</td>\n",
       "      <td>vilbert</td>\n",
       "      <td>1</td>\n",
       "    </tr>\n",
       "    <tr>\n",
       "      <th>2</th>\n",
       "      <td>1</td>\n",
       "      <td>2</td>\n",
       "      <td>vilbert</td>\n",
       "      <td>2</td>\n",
       "    </tr>\n",
       "    <tr>\n",
       "      <th>3</th>\n",
       "      <td>1</td>\n",
       "      <td>3</td>\n",
       "      <td>vilbert</td>\n",
       "      <td>3</td>\n",
       "    </tr>\n",
       "    <tr>\n",
       "      <th>4</th>\n",
       "      <td>0</td>\n",
       "      <td>4</td>\n",
       "      <td>vilbert</td>\n",
       "      <td>4</td>\n",
       "    </tr>\n",
       "    <tr>\n",
       "      <th>...</th>\n",
       "      <td>...</td>\n",
       "      <td>...</td>\n",
       "      <td>...</td>\n",
       "      <td>...</td>\n",
       "    </tr>\n",
       "    <tr>\n",
       "      <th>301</th>\n",
       "      <td>0</td>\n",
       "      <td>97</td>\n",
       "      <td>mmtrBig</td>\n",
       "      <td>97</td>\n",
       "    </tr>\n",
       "    <tr>\n",
       "      <th>302</th>\n",
       "      <td>0</td>\n",
       "      <td>98</td>\n",
       "      <td>mmtrBig</td>\n",
       "      <td>98</td>\n",
       "    </tr>\n",
       "    <tr>\n",
       "      <th>303</th>\n",
       "      <td>0</td>\n",
       "      <td>99</td>\n",
       "      <td>mmtrBig</td>\n",
       "      <td>99</td>\n",
       "    </tr>\n",
       "    <tr>\n",
       "      <th>304</th>\n",
       "      <td>0</td>\n",
       "      <td>100</td>\n",
       "      <td>mmtrBig</td>\n",
       "      <td>100</td>\n",
       "    </tr>\n",
       "    <tr>\n",
       "      <th>305</th>\n",
       "      <td>0</td>\n",
       "      <td>101</td>\n",
       "      <td>mmtrBig</td>\n",
       "      <td>101</td>\n",
       "    </tr>\n",
       "  </tbody>\n",
       "</table>\n",
       "<p>306 rows × 4 columns</p>\n",
       "</div>"
      ],
      "text/plain": [
       "     result   id    model  origin_id\n",
       "0         0    0  vilbert          0\n",
       "1         0    1  vilbert          1\n",
       "2         1    2  vilbert          2\n",
       "3         1    3  vilbert          3\n",
       "4         0    4  vilbert          4\n",
       "..      ...  ...      ...        ...\n",
       "301       0   97  mmtrBig         97\n",
       "302       0   98  mmtrBig         98\n",
       "303       0   99  mmtrBig         99\n",
       "304       0  100  mmtrBig        100\n",
       "305       0  101  mmtrBig        101\n",
       "\n",
       "[306 rows x 4 columns]"
      ]
     },
     "execution_count": 27,
     "metadata": {},
     "output_type": "execute_result"
    }
   ],
   "source": [
    "results_model"
   ]
  },
  {
   "cell_type": "code",
   "execution_count": null,
   "metadata": {},
   "outputs": [],
   "source": [
    "f, ax = plt.subplots(figsize=(6, 10))\n",
    "sns.stripplot(x=\"id\", y=\"result\", data=results_model, hue=\"model\", jitter=0)\n",
    "ax.legend(ncol=2, loc=\"lower right\", frameon=True)"
   ]
  },
  {
   "cell_type": "code",
   "execution_count": 255,
   "metadata": {},
   "outputs": [
    {
     "data": {
      "text/plain": [
       "<matplotlib.axes._subplots.AxesSubplot at 0x7f19eca91978>"
      ]
     },
     "execution_count": 255,
     "metadata": {},
     "output_type": "execute_result"
    },
    {
     "data": {
      "image/png": "[encoded data removed]",
      "text/plain": [
       "<Figure size 468x468 with 1 Axes>"
      ]
     },
     "metadata": {},
     "output_type": "display_data"
    }
   ],
   "source": [
    "f, ax = plt.subplots(figsize=(6.5, 6.5))\n",
    "sns.despine(f, left=True, bottom=True)\n",
    "#clarity_ranking = [\"I1\", \"SI2\", \"SI1\", \"VS2\", \"VS1\", \"VVS2\", \"VVS1\", \"IF\"]\n",
    "sns.scatterplot(x=\"id\", y=\"result\",\n",
    "                hue=\"model\",\n",
    "                palette=\"ch:r=-.2,d=.3_r\",\n",
    "                sizes=(1, 1), linewidth=0,\n",
    "                data=results_model, ax=ax)"
   ]
  },
  {
   "cell_type": "markdown",
   "metadata": {},
   "source": [
    "Get test dataset idexes for a specific label where all models' predictions are incorrect"
   ]
  },
  {
   "cell_type": "code",
   "execution_count": 25,
   "metadata": {},
   "outputs": [],
   "source": [
    "def pred_class_dataframe_ids(data_preds, label_id):\n",
    "    binary_preds = []\n",
    "    origin_ids = []\n",
    "\n",
    "    for i, idx in enumerate(indexesByLabel[label_id]):\n",
    "        binary_preds.append(1 if data_preds[idx][label_id] == gold_preds[idx][label_id] else 0)\n",
    "        origin_ids.append(idx)\n",
    "    \n",
    "    df = pd.DataFrame()\n",
    "    df['result'] = binary_preds\n",
    "    df['origin_id'] = origin_ids\n",
    "            \n",
    "    return df"
   ]
  },
  {
   "cell_type": "code",
   "execution_count": 60,
   "metadata": {},
   "outputs": [],
   "source": [
    "target_label = 'Film-Noir'\n",
    "\n",
    "vilbert_results_model_ids = pred_class_dataframe_ids(vilbert_preds, label2idx[target_label])\n",
    "mmbt_results_model_ids = pred_class_dataframe_ids(mmbt_preds, label2idx[target_label])\n",
    "mmtrbig_results_model_ids = pred_class_dataframe_ids(mmtrbig_preds, label2idx[target_label])"
   ]
  },
  {
   "cell_type": "code",
   "execution_count": 61,
   "metadata": {},
   "outputs": [],
   "source": [
    "incorrect_pred = vilbert_results_model_ids['result'] == 0\n",
    "vilbert_incorrect = vilbert_results_model_ids[incorrect_pred]\n",
    "\n",
    "incorrect_pred = mmbt_results_model_ids['result'] == 0\n",
    "mmbt_incorrect = mmbt_results_model_ids[incorrect_pred]\n",
    "\n",
    "incorrect_pred = mmtrbig_results_model_ids['result'] == 0\n",
    "mmtr_incorrect = mmtrbig_results_model_ids[incorrect_pred]"
   ]
  },
  {
   "cell_type": "code",
   "execution_count": 62,
   "metadata": {},
   "outputs": [
    {
     "data": {
      "text/plain": [
       "0       1\n",
       "1       5\n",
       "2       7\n",
       "3       8\n",
       "4      12\n",
       "5      14\n",
       "6      21\n",
       "7      24\n",
       "8      26\n",
       "9      33\n",
       "10     34\n",
       "11     38\n",
       "12     39\n",
       "13     41\n",
       "14     47\n",
       "15     51\n",
       "16     52\n",
       "17     57\n",
       "18     65\n",
       "19     72\n",
       "20     74\n",
       "21     75\n",
       "22     82\n",
       "23     92\n",
       "24     93\n",
       "25     95\n",
       "26     97\n",
       "27     99\n",
       "28    100\n",
       "29    101\n",
       "Name: origin_id, dtype: int64"
      ]
     },
     "execution_count": 62,
     "metadata": {},
     "output_type": "execute_result"
    }
   ],
   "source": [
    "temp_merge = pd.merge(vilbert_incorrect, mmbt_incorrect, how='inner', on=['origin_id'])\n",
    "all_incorrect_preds = pd.merge(mmtr_incorrect, temp_merge, how='inner', on=['origin_id'])['origin_id']\n",
    "all_incorrect_preds"
   ]
  },
  {
   "cell_type": "markdown",
   "metadata": {},
   "source": [
    "### Explore incorrect predictions"
   ]
  },
  {
   "cell_type": "markdown",
   "metadata": {},
   "source": [
    "Get all indexes of predicted examples that were incorrect"
   ]
  },
  {
   "cell_type": "code",
   "execution_count": 32,
   "metadata": {},
   "outputs": [],
   "source": [
    "all_incorrect_preds = list(all_incorrect_preds)"
   ]
  },
  {
   "cell_type": "markdown",
   "metadata": {},
   "source": [
    "Get all test set examples"
   ]
  },
  {
   "cell_type": "code",
   "execution_count": 36,
   "metadata": {},
   "outputs": [],
   "source": [
    "import json\n",
    "\n",
    "data = [json.loads(l) for l in open('/home/est_posgrado_isaac.bribiesca/mmimdb/test.jsonl')]"
   ]
  },
  {
   "cell_type": "markdown",
   "metadata": {},
   "source": [
    "Filter the incorrect test examples in all models"
   ]
  },
  {
   "cell_type": "code",
   "execution_count": 39,
   "metadata": {},
   "outputs": [],
   "source": [
    "data_filtered = [data[i] for i in all_incorrect_preds]"
   ]
  },
  {
   "cell_type": "markdown",
   "metadata": {},
   "source": [
    "Keep only the genres"
   ]
  },
  {
   "cell_type": "code",
   "execution_count": 41,
   "metadata": {},
   "outputs": [],
   "source": [
    "genres = [row['label'] for row in data_filtered]"
   ]
  },
  {
   "cell_type": "code",
   "execution_count": 42,
   "metadata": {},
   "outputs": [
    {
     "data": {
      "text/plain": [
       "[['Drama', 'Film-Noir'],\n",
       " ['Drama', 'Film-Noir', 'Mystery', 'Romance', 'Thriller'],\n",
       " ['Crime', 'Drama', 'Film-Noir', 'Romance'],\n",
       " ['Crime', 'Drama', 'Film-Noir', 'Thriller'],\n",
       " ['Crime', 'Drama', 'Film-Noir'],\n",
       " ['Drama', 'Film-Noir', 'Thriller'],\n",
       " ['Crime', 'Film-Noir', 'Thriller'],\n",
       " ['Biography', 'Crime', 'Drama', 'Film-Noir'],\n",
       " ['Drama', 'Film-Noir'],\n",
       " ['Drama', 'Film-Noir'],\n",
       " ['Adventure', 'Drama', 'Film-Noir', 'War'],\n",
       " ['Crime', 'Drama', 'Film-Noir', 'Thriller'],\n",
       " ['Crime', 'Film-Noir', 'Thriller'],\n",
       " ['Crime', 'Film-Noir', 'Mystery', 'Thriller'],\n",
       " ['Crime', 'Drama', 'Film-Noir'],\n",
       " ['Crime', 'Drama', 'Film-Noir'],\n",
       " ['Crime', 'Drama', 'Film-Noir', 'Thriller'],\n",
       " ['Thriller', 'Film-Noir', 'Drama'],\n",
       " ['Crime', 'Drama', 'Film-Noir', 'Thriller'],\n",
       " ['Crime', 'Drama', 'Film-Noir', 'Thriller'],\n",
       " ['Drama', 'Film-Noir', 'Sport', 'Thriller'],\n",
       " ['Drama', 'Film-Noir', 'Thriller'],\n",
       " ['Crime', 'Film-Noir', 'Thriller'],\n",
       " ['Drama', 'Film-Noir', 'Thriller'],\n",
       " ['Crime', 'Drama', 'Film-Noir', 'Thriller'],\n",
       " ['Drama', 'Film-Noir', 'Romance'],\n",
       " ['Drama', 'Film-Noir', 'Romance'],\n",
       " ['Crime', 'Drama', 'Film-Noir'],\n",
       " ['Drama', 'Film-Noir', 'Thriller'],\n",
       " ['Crime', 'Film-Noir', 'Thriller']]"
      ]
     },
     "execution_count": 42,
     "metadata": {},
     "output_type": "execute_result"
    }
   ],
   "source": [
    "genres"
   ]
  },
  {
   "cell_type": "markdown",
   "metadata": {},
   "source": [
    "Get genre names predicted by model in the incorrect examples"
   ]
  },
  {
   "cell_type": "code",
   "execution_count": 53,
   "metadata": {},
   "outputs": [],
   "source": [
    "mmbt_incorrect_intersection = [mmbt_preds[i] for i in all_incorrect_preds]\n",
    "mmbt_incorrect_label_names = [[label_names[i] for i in np.where(row == 1)[0]] for row in mmbt_incorrect_intersection]"
   ]
  },
  {
   "cell_type": "code",
   "execution_count": 54,
   "metadata": {},
   "outputs": [
    {
     "data": {
      "text/plain": [
       "[['Drama', 'Comedy'],\n",
       " ['Drama', 'Comedy'],\n",
       " ['Drama', 'Crime', 'Comedy'],\n",
       " ['Drama', 'Crime', 'Action', 'Comedy'],\n",
       " ['Drama', 'Crime', 'Action'],\n",
       " ['Mystery', 'Thriller', 'Crime', 'Horror'],\n",
       " ['Drama', 'Mystery', 'Thriller', 'Crime'],\n",
       " ['Drama', 'Crime'],\n",
       " ['Drama', 'Romance', 'Comedy'],\n",
       " ['Drama', 'Romance'],\n",
       " ['Drama', 'Adventure', 'War'],\n",
       " ['Drama', 'Thriller', 'Action'],\n",
       " ['Crime', 'Romance', 'Comedy'],\n",
       " ['Thriller', 'Horror', 'Comedy'],\n",
       " ['Drama', 'Romance'],\n",
       " ['Drama', 'War'],\n",
       " ['Drama', 'Thriller', 'Crime', 'Action'],\n",
       " ['Drama', 'Thriller', 'Horror', 'War'],\n",
       " ['Drama', 'Thriller', 'Crime'],\n",
       " ['Drama', 'Romance', 'Biography'],\n",
       " ['Drama', 'Crime', 'Sport', 'Biography'],\n",
       " ['Drama', 'Romance'],\n",
       " ['Drama', 'Thriller', 'Crime', 'Comedy'],\n",
       " ['Drama', 'Mystery', 'Horror'],\n",
       " ['Drama', 'Crime'],\n",
       " ['Drama', 'Mystery', 'Thriller', 'Romance'],\n",
       " ['Drama', 'Romance', 'Comedy'],\n",
       " ['Drama', 'Thriller', 'Crime'],\n",
       " ['Drama', 'Thriller', 'Romance'],\n",
       " ['Drama', 'Crime']]"
      ]
     },
     "execution_count": 54,
     "metadata": {},
     "output_type": "execute_result"
    }
   ],
   "source": [
    "mmbt_incorrect_label_names"
   ]
  },
  {
   "cell_type": "markdown",
   "metadata": {},
   "source": [
    "Compare true vs pred genres in incorrect predictions"
   ]
  },
  {
   "cell_type": "code",
   "execution_count": 58,
   "metadata": {},
   "outputs": [
    {
     "name": "stdout",
     "output_type": "stream",
     "text": [
      "true - pred\n",
      "['Drama', 'Film-Noir'] - ['Drama', 'Comedy']\n",
      "['Drama', 'Film-Noir', 'Mystery', 'Romance', 'Thriller'] - ['Drama', 'Comedy']\n",
      "['Crime', 'Drama', 'Film-Noir', 'Romance'] - ['Drama', 'Crime', 'Comedy']\n",
      "['Crime', 'Drama', 'Film-Noir', 'Thriller'] - ['Drama', 'Crime', 'Action', 'Comedy']\n",
      "['Crime', 'Drama', 'Film-Noir'] - ['Drama', 'Crime', 'Action']\n",
      "['Drama', 'Film-Noir', 'Thriller'] - ['Mystery', 'Thriller', 'Crime', 'Horror']\n",
      "['Crime', 'Film-Noir', 'Thriller'] - ['Drama', 'Mystery', 'Thriller', 'Crime']\n",
      "['Biography', 'Crime', 'Drama', 'Film-Noir'] - ['Drama', 'Crime']\n",
      "['Drama', 'Film-Noir'] - ['Drama', 'Romance', 'Comedy']\n",
      "['Drama', 'Film-Noir'] - ['Drama', 'Romance']\n",
      "['Adventure', 'Drama', 'Film-Noir', 'War'] - ['Drama', 'Adventure', 'War']\n",
      "['Crime', 'Drama', 'Film-Noir', 'Thriller'] - ['Drama', 'Thriller', 'Action']\n",
      "['Crime', 'Film-Noir', 'Thriller'] - ['Crime', 'Romance', 'Comedy']\n",
      "['Crime', 'Film-Noir', 'Mystery', 'Thriller'] - ['Thriller', 'Horror', 'Comedy']\n",
      "['Crime', 'Drama', 'Film-Noir'] - ['Drama', 'Romance']\n",
      "['Crime', 'Drama', 'Film-Noir'] - ['Drama', 'War']\n",
      "['Crime', 'Drama', 'Film-Noir', 'Thriller'] - ['Drama', 'Thriller', 'Crime', 'Action']\n",
      "['Thriller', 'Film-Noir', 'Drama'] - ['Drama', 'Thriller', 'Horror', 'War']\n",
      "['Crime', 'Drama', 'Film-Noir', 'Thriller'] - ['Drama', 'Thriller', 'Crime']\n",
      "['Crime', 'Drama', 'Film-Noir', 'Thriller'] - ['Drama', 'Romance', 'Biography']\n",
      "['Drama', 'Film-Noir', 'Sport', 'Thriller'] - ['Drama', 'Crime', 'Sport', 'Biography']\n",
      "['Drama', 'Film-Noir', 'Thriller'] - ['Drama', 'Romance']\n",
      "['Crime', 'Film-Noir', 'Thriller'] - ['Drama', 'Thriller', 'Crime', 'Comedy']\n",
      "['Drama', 'Film-Noir', 'Thriller'] - ['Drama', 'Mystery', 'Horror']\n",
      "['Crime', 'Drama', 'Film-Noir', 'Thriller'] - ['Drama', 'Crime']\n",
      "['Drama', 'Film-Noir', 'Romance'] - ['Drama', 'Mystery', 'Thriller', 'Romance']\n",
      "['Drama', 'Film-Noir', 'Romance'] - ['Drama', 'Romance', 'Comedy']\n",
      "['Crime', 'Drama', 'Film-Noir'] - ['Drama', 'Thriller', 'Crime']\n",
      "['Drama', 'Film-Noir', 'Thriller'] - ['Drama', 'Thriller', 'Romance']\n",
      "['Crime', 'Film-Noir', 'Thriller'] - ['Drama', 'Crime']\n"
     ]
    }
   ],
   "source": [
    "print(\"true - pred\")\n",
    "for gold, pred in zip(genres, mmbt_incorrect_label_names):\n",
    "    print(f'{gold} - {pred}')"
   ]
  },
  {
   "cell_type": "code",
   "execution_count": 67,
   "metadata": {},
   "outputs": [
    {
     "name": "stdout",
     "output_type": "stream",
     "text": [
      "Missing labels:\n",
      "\n",
      "{'Film-Noir'}\n",
      "{'Romance', 'Film-Noir', 'Thriller', 'Mystery'}\n",
      "{'Romance', 'Film-Noir'}\n",
      "{'Film-Noir', 'Thriller'}\n",
      "{'Film-Noir'}\n",
      "{'Film-Noir', 'Drama'}\n",
      "{'Film-Noir'}\n",
      "{'Biography', 'Film-Noir'}\n",
      "{'Film-Noir'}\n",
      "{'Film-Noir'}\n",
      "{'Film-Noir'}\n",
      "{'Film-Noir', 'Crime'}\n",
      "{'Film-Noir', 'Thriller'}\n",
      "{'Film-Noir', 'Crime', 'Mystery'}\n",
      "{'Film-Noir', 'Crime'}\n",
      "{'Film-Noir', 'Crime'}\n",
      "{'Film-Noir'}\n",
      "{'Film-Noir'}\n",
      "{'Film-Noir'}\n",
      "{'Film-Noir', 'Crime', 'Thriller'}\n",
      "{'Film-Noir', 'Thriller'}\n",
      "{'Film-Noir', 'Thriller'}\n",
      "{'Film-Noir'}\n",
      "{'Film-Noir', 'Thriller'}\n",
      "{'Film-Noir', 'Thriller'}\n",
      "{'Film-Noir'}\n",
      "{'Film-Noir'}\n",
      "{'Film-Noir'}\n",
      "{'Film-Noir'}\n",
      "{'Film-Noir', 'Thriller'}\n"
     ]
    }
   ],
   "source": [
    "print(\"Missing labels:\\n\")\n",
    "for gold, pred in zip(genres, mmbt_incorrect_label_names):\n",
    "    missing = set(gold).difference(set(pred))\n",
    "    #missing.remove(target_label)\n",
    "    print(missing)"
   ]
  },
  {
   "cell_type": "code",
   "execution_count": 66,
   "metadata": {},
   "outputs": [
    {
     "name": "stdout",
     "output_type": "stream",
     "text": [
      "Incorrect labels:\n",
      "\n",
      "{'Comedy'}\n",
      "{'Comedy'}\n",
      "{'Comedy'}\n",
      "{'Action', 'Comedy'}\n",
      "{'Action'}\n",
      "{'Horror', 'Crime', 'Mystery'}\n",
      "{'Drama', 'Mystery'}\n",
      "set()\n",
      "{'Romance', 'Comedy'}\n",
      "{'Romance'}\n",
      "set()\n",
      "{'Action'}\n",
      "{'Romance', 'Comedy'}\n",
      "{'Horror', 'Comedy'}\n",
      "{'Romance'}\n",
      "{'War'}\n",
      "{'Action'}\n",
      "{'Horror', 'War'}\n",
      "set()\n",
      "{'Romance', 'Biography'}\n",
      "{'Biography', 'Crime'}\n",
      "{'Romance'}\n",
      "{'Comedy', 'Drama'}\n",
      "{'Horror', 'Mystery'}\n",
      "set()\n",
      "{'Thriller', 'Mystery'}\n",
      "{'Comedy'}\n",
      "{'Thriller'}\n",
      "{'Romance'}\n",
      "{'Drama'}\n"
     ]
    }
   ],
   "source": [
    "print(\"Incorrect labels:\\n\")\n",
    "for gold, pred in zip(genres, mmbt_incorrect_label_names):\n",
    "    missing = set(pred).difference(set(gold))\n",
    "    #missing.remove(target_label)\n",
    "    print(missing)"
   ]
  },
  {
   "cell_type": "markdown",
   "metadata": {},
   "source": [
    "### GMU gates visualization"
   ]
  },
  {
   "cell_type": "code",
   "execution_count": 300,
   "metadata": {},
   "outputs": [],
   "source": [
    "gates = np.load('model_save_mmtrgmu/mmtrgmu_model_run/gates.npy')"
   ]
  },
  {
   "cell_type": "code",
   "execution_count": 301,
   "metadata": {},
   "outputs": [],
   "source": [
    "gates_rounded = gates.round()"
   ]
  },
  {
   "cell_type": "code",
   "execution_count": 306,
   "metadata": {},
   "outputs": [],
   "source": [
    "gates_freqs = np.sum(gates_rounded, axis=1)"
   ]
  },
  {
   "cell_type": "code",
   "execution_count": 309,
   "metadata": {},
   "outputs": [],
   "source": [
    "gates_freqs = gates_freqs/30"
   ]
  },
  {
   "cell_type": "code",
   "execution_count": 310,
   "metadata": {},
   "outputs": [
    {
     "data": {
      "text/plain": [
       "array([0.6333333 , 0.56666666, 0.53333336, ..., 0.6666667 , 0.6333333 ,\n",
       "       0.53333336], dtype=float32)"
      ]
     },
     "execution_count": 310,
     "metadata": {},
     "output_type": "execute_result"
    }
   ],
   "source": [
    "gates_freqs"
   ]
  },
  {
   "cell_type": "code",
   "execution_count": 312,
   "metadata": {},
   "outputs": [
    {
     "data": {
      "text/plain": [
       "array([0.5582661 , 0.56419015, 0.49996036, ..., 0.5745738 , 0.5874417 ,\n",
       "       0.53913426], dtype=float32)"
      ]
     },
     "execution_count": 312,
     "metadata": {},
     "output_type": "execute_result"
    }
   ],
   "source": [
    "np.mean(gates, axis=1)"
   ]
  },
  {
   "cell_type": "markdown",
   "metadata": {},
   "source": [
    "### Training and Validation loss"
   ]
  },
  {
   "cell_type": "code",
   "execution_count": 114,
   "metadata": {},
   "outputs": [],
   "source": [
    "def get_loss(path):\n",
    "    \n",
    "    with open(path, \"r\") as f:\n",
    "        log = f.readlines()\n",
    "        \n",
    "    start_index = [i for i, s in enumerate(log) if \"Training..\" in s][0]\n",
    "    log_metrics = log[start_index+1:]\n",
    "    \n",
    "    train_loss = [s.split(\"-\")[-1].split(\":\")[-1].strip().strip(\"\\n\") for s in log_metrics if \"Train\" in s]\n",
    "    train_loss = np.array([float(v) for v in train_loss])\n",
    "    \n",
    "    val_loss = [s.split(\"-\")[-1].split(\"|\")[0].split(\":\")[-1].strip().strip(\"\\n\") for s in log_metrics if \"Val\" in s]\n",
    "    val_loss = np.array([float(v) for v in val_loss])\n",
    "    \n",
    "    return train_loss, val_loss"
   ]
  },
  {
   "cell_type": "markdown",
   "metadata": {},
   "source": [
    "Graph loss vs epoch MMBT"
   ]
  },
  {
   "cell_type": "code",
   "execution_count": 115,
   "metadata": {},
   "outputs": [
    {
     "data": {
      "image/png": "[encoded data removed]",
      "text/plain": [
       "<Figure size 432x288 with 1 Axes>"
      ]
     },
     "metadata": {},
     "output_type": "display_data"
    }
   ],
   "source": [
    "train_loss, val_loss = get_loss(\"model_save_mmbt/mmbt_model_run/logfile.log\")\n",
    "\n",
    "plt.subplot(111)\n",
    "plt.plot(train_loss, label='train')\n",
    "plt.plot(val_loss, label='val')\n",
    "plt.xlabel('epoch')\n",
    "plt.ylabel('loss')\n",
    "plt.legend(loc='upper left')\n",
    "plt.show()"
   ]
  },
  {
   "cell_type": "markdown",
   "metadata": {},
   "source": [
    "Graph loss vs epoch MMTRBig"
   ]
  },
  {
   "cell_type": "code",
   "execution_count": 116,
   "metadata": {},
   "outputs": [
    {
     "data": {
      "image/png": "[encoded data removed]",
      "text/plain": [
       "<Figure size 432x288 with 1 Axes>"
      ]
     },
     "metadata": {},
     "output_type": "display_data"
    }
   ],
   "source": [
    "train_loss, val_loss = get_loss(\"model_save_mmtrBig/mmtrBig_model_run/logfile.log\")\n",
    "\n",
    "plt.subplot(111)\n",
    "plt.plot(train_loss, label='train')\n",
    "plt.plot(val_loss, label='val')\n",
    "plt.xlabel('epoch')\n",
    "plt.ylabel('loss')\n",
    "plt.legend(loc='upper left')\n",
    "plt.show()"
   ]
  },
  {
   "cell_type": "markdown",
   "metadata": {},
   "source": [
    "Graph loss vs epoch ViLBERT"
   ]
  },
  {
   "cell_type": "code",
   "execution_count": 117,
   "metadata": {},
   "outputs": [
    {
     "data": {
      "image/png": "[encoded data removed]",
      "text/plain": [
       "<Figure size 432x288 with 1 Axes>"
      ]
     },
     "metadata": {},
     "output_type": "display_data"
    }
   ],
   "source": [
    "train_loss, val_loss = get_loss(\"model_save_vilbert/vilbert_model_run/logfile.txt\")\n",
    "\n",
    "plt.subplot(111)\n",
    "plt.plot(train_loss, label='train')\n",
    "plt.plot(val_loss, label='val')\n",
    "plt.xlabel('epoch')\n",
    "plt.ylabel('loss')\n",
    "plt.legend(loc='upper left')\n",
    "plt.show()"
   ]
  },
  {
   "cell_type": "markdown",
   "metadata": {},
   "source": [
    "### Validation accuracy"
   ]
  },
  {
   "cell_type": "code",
   "execution_count": 136,
   "metadata": {},
   "outputs": [],
   "source": [
    "def get_f1(path):\n",
    "    \n",
    "    with open(path, \"r\") as f:\n",
    "        log = f.readlines()\n",
    "        \n",
    "    start_index = [i for i, s in enumerate(log) if \"Training..\" in s][0]\n",
    "    log_metrics = log[start_index+1:]\n",
    "    \n",
    "    micro = [s.split(\"-\")[-1].split(\"|\")[2][11:].strip().strip(\"\\n\") for s in log_metrics if \"Val\" in s]\n",
    "    micro = np.array([float(v) for v in micro])\n",
    "    \n",
    "    macro = [s.split(\"-\")[-1].split(\"|\")[1][9:].strip().strip(\"\\n\") for s in log_metrics if \"Val\" in s]\n",
    "    macro = np.array([float(v) for v in macro])\n",
    "    \n",
    "    return micro, macro"
   ]
  },
  {
   "cell_type": "markdown",
   "metadata": {},
   "source": [
    "Validation F1 scores MMBT"
   ]
  },
  {
   "cell_type": "code",
   "execution_count": 153,
   "metadata": {},
   "outputs": [
    {
     "data": {
      "image/png": "[encoded data removed]",
      "text/plain": [
       "<Figure size 432x288 with 1 Axes>"
      ]
     },
     "metadata": {},
     "output_type": "display_data"
    }
   ],
   "source": [
    "micro_test, macro_test = get_f1(\"model_save_mmbt/mmbt_model_run/logfile.log\")\n",
    "\n",
    "plt.subplot(111)\n",
    "plt.plot(micro_test, label='micro f1')\n",
    "plt.plot(macro_test, label='macro f1')\n",
    "plt.xlabel('epoch')\n",
    "plt.ylabel('F1 score')\n",
    "plt.legend(loc='upper left')\n",
    "plt.title(\"Validation F1 score\")\n",
    "plt.show()"
   ]
  },
  {
   "cell_type": "markdown",
   "metadata": {},
   "source": [
    "Validation F1 scores MMTRBig"
   ]
  },
  {
   "cell_type": "code",
   "execution_count": 154,
   "metadata": {},
   "outputs": [
    {
     "data": {
      "image/png": "[encoded data removed]",
      "text/plain": [
       "<Figure size 432x288 with 1 Axes>"
      ]
     },
     "metadata": {},
     "output_type": "display_data"
    }
   ],
   "source": [
    "micro_test, macro_test = get_f1(\"model_save_mmtrBig/mmtrBig_model_run/logfile.log\")\n",
    "\n",
    "plt.subplot(111)\n",
    "plt.plot(micro_test, label='micro f1')\n",
    "plt.plot(macro_test, label='macro f1')\n",
    "plt.xlabel('epoch')\n",
    "plt.ylabel('F1 score')\n",
    "plt.legend(loc='upper left')\n",
    "plt.title(\"Validation F1 score\")\n",
    "plt.show()"
   ]
  },
  {
   "cell_type": "markdown",
   "metadata": {},
   "source": [
    "Validation F1 scores ViLBERT"
   ]
  },
  {
   "cell_type": "code",
   "execution_count": 152,
   "metadata": {},
   "outputs": [
    {
     "data": {
      "image/png": "[encoded data removed]",
      "text/plain": [
       "<Figure size 432x288 with 1 Axes>"
      ]
     },
     "metadata": {},
     "output_type": "display_data"
    }
   ],
   "source": [
    "micro_test, macro_test = get_f1(\"model_save_vilbert/vilbert_model_run/logfile.txt\")\n",
    "\n",
    "plt.subplot(111)\n",
    "plt.plot(micro_test, label='micro f1')\n",
    "plt.plot(macro_test, label='macro f1')\n",
    "plt.xlabel('epoch')\n",
    "plt.ylabel('F1 score')\n",
    "plt.legend(loc='upper left')\n",
    "plt.title(\"Validation F1 score\")\n",
    "plt.show()"
   ]
  },
  {
   "cell_type": "markdown",
   "metadata": {},
   "source": [
    "### Visualize raw predicitons"
   ]
  },
  {
   "cell_type": "code",
   "execution_count": 3,
   "metadata": {},
   "outputs": [],
   "source": [
    "import numpy as np"
   ]
  },
  {
   "cell_type": "code",
   "execution_count": 30,
   "metadata": {},
   "outputs": [],
   "source": [
    "raw_preds = np.load('model_save_mmbt/mmbt_model_run/preds_raw.npy')\n",
    "max_pred_indexes = np.argmax(raw_preds, axis=1)\n",
    "max_pred_category = [label_names[i] for i in max_pred_indexes]\n",
    "gold_pred_max = gold_preds[:, :]"
   ]
  },
  {
   "cell_type": "code",
   "execution_count": 33,
   "metadata": {},
   "outputs": [],
   "source": [
    "pred_max = np.zeros(raw_preds.shape)\n",
    "\n",
    "for i in range(pred_max.shape[0]):\n",
    "    pred_max[i][max_pred_indexes[i]] = 1\n",
    "    \n",
    "    for j in range(pred_max.shape[1]):\n",
    "        if j != max_pred_indexes[i]:\n",
    "            gold_pred_max[i][j] = 0"
   ]
  },
  {
   "cell_type": "code",
   "execution_count": 41,
   "metadata": {},
   "outputs": [],
   "source": [
    "import pandas as pd\n",
    "from sklearn.metrics import f1_score\n",
    "\n",
    "def freqs_dataframe_max(data_preds, model_name, label_names):\n",
    "    countsLabel = []\n",
    "    \n",
    "    scores = f1_score(gold_pred_max, data_preds, average=None)\n",
    "        \n",
    "    df = pd.DataFrame()\n",
    "    df['label'] = label_names\n",
    "    df['freq'] = list(scores)\n",
    "    df['model'] = [model_name]*len(label_names)\n",
    "            \n",
    "    return df"
   ]
  },
  {
   "cell_type": "code",
   "execution_count": 42,
   "metadata": {},
   "outputs": [],
   "source": [
    "mmbt_freqs_max = freqs_dataframe_max(pred_max, \"mmbt\", label_names)"
   ]
  },
  {
   "cell_type": "code",
   "execution_count": 44,
   "metadata": {},
   "outputs": [
    {
     "data": {
      "image/png": "[encoded data removed]",
      "text/plain": [
       "<Figure size 432x720 with 1 Axes>"
      ]
     },
     "metadata": {},
     "output_type": "display_data"
    }
   ],
   "source": [
    "import seaborn as sns\n",
    "import matplotlib.pyplot as plt\n",
    "sns.set(style=\"whitegrid\")\n",
    "\n",
    "f, ax = plt.subplots(figsize=(6, 10))\n",
    "ax_points = sns.stripplot(x=\"freq\", y=\"label\", data=mmbt_freqs_max, hue=\"model\", jitter=0, order=ordered_classes)\n",
    "ax.legend(ncol=2, loc=\"upper left\", frameon=True, bbox_to_anchor=(0.99, 1.01))\n",
    "ax.set(xlabel=\"F1 score\", ylabel=\"genre\")\n",
    "\n",
    "for i in range(len(label_names)):\n",
    "    ax_points.axhline(i, color='black', alpha=0.1, lw = 2)"
   ]
  },
  {
   "cell_type": "markdown",
   "metadata": {},
   "source": [
    "### Complementarity"
   ]
  },
  {
   "cell_type": "markdown",
   "metadata": {},
   "source": [
    "Compare argmax classes between models"
   ]
  },
  {
   "cell_type": "code",
   "execution_count": 8,
   "metadata": {},
   "outputs": [],
   "source": [
    "raw_preds_img = np.load('model_save_mmtrBig/mmtrImg_model_run/preds_raw.npy')\n",
    "raw_preds_txt = np.load('model_save_mmtrBig/mmtrTxt_model_run/preds_raw.npy')"
   ]
  },
  {
   "cell_type": "code",
   "execution_count": 9,
   "metadata": {},
   "outputs": [],
   "source": [
    "max_pred_indexes_img = np.argmax(raw_preds_img, axis=1)\n",
    "max_pred_indexes_txt = np.argmax(raw_preds_txt, axis=1)"
   ]
  },
  {
   "cell_type": "code",
   "execution_count": 10,
   "metadata": {},
   "outputs": [],
   "source": [
    "diff = np.sum(max_pred_indexes_img != max_pred_indexes_txt)"
   ]
  },
  {
   "cell_type": "code",
   "execution_count": 11,
   "metadata": {},
   "outputs": [
    {
     "name": "stdout",
     "output_type": "stream",
     "text": [
      "0.2687524041543788\n"
     ]
    }
   ],
   "source": [
    "print(diff/max_pred_indexes_img.shape[0])"
   ]
  },
  {
   "cell_type": "markdown",
   "metadata": {},
   "source": [
    "Maximum Possible Accuracy"
   ]
  },
  {
   "cell_type": "markdown",
   "metadata": {},
   "source": [
    "Combining MMTr Text and Image models"
   ]
  },
  {
   "cell_type": "code",
   "execution_count": 29,
   "metadata": {},
   "outputs": [],
   "source": [
    "mpa_pred = np.maximum(raw_preds_img, raw_preds_txt)\n",
    "mpa_pred = np.around(mpa_pred)"
   ]
  },
  {
   "cell_type": "code",
   "execution_count": 33,
   "metadata": {},
   "outputs": [
    {
     "data": {
      "text/plain": [
       "0.65456729737847"
      ]
     },
     "execution_count": 33,
     "metadata": {},
     "output_type": "execute_result"
    }
   ],
   "source": [
    "f1_score(gold_preds, mpa_pred, average='micro')"
   ]
  },
  {
   "cell_type": "code",
   "execution_count": 37,
   "metadata": {},
   "outputs": [
    {
     "data": {
      "text/plain": [
       "0.6038054838795545"
      ]
     },
     "execution_count": 37,
     "metadata": {},
     "output_type": "execute_result"
    }
   ],
   "source": [
    "f1_score(gold_preds, mpa_pred, average='macro')"
   ]
  },
  {
   "cell_type": "markdown",
   "metadata": {},
   "source": [
    "Original model"
   ]
  },
  {
   "cell_type": "code",
   "execution_count": 38,
   "metadata": {},
   "outputs": [],
   "source": [
    "mmtr_preds = load_labels(\"model_save_mmtrBig/mmtrBig_model_run/test_labels_pred.txt\")"
   ]
  },
  {
   "cell_type": "code",
   "execution_count": 39,
   "metadata": {},
   "outputs": [
    {
     "data": {
      "text/plain": [
       "0.6642833309499977"
      ]
     },
     "execution_count": 39,
     "metadata": {},
     "output_type": "execute_result"
    }
   ],
   "source": [
    "f1_score(gold_preds, mmtr_preds, average='micro')"
   ]
  },
  {
   "cell_type": "code",
   "execution_count": 40,
   "metadata": {},
   "outputs": [
    {
     "data": {
      "text/plain": [
       "0.6115393540081885"
      ]
     },
     "execution_count": 40,
     "metadata": {},
     "output_type": "execute_result"
    }
   ],
   "source": [
    "f1_score(gold_preds, mmtr_preds, average='macro')"
   ]
  },
  {
   "cell_type": "markdown",
   "metadata": {},
   "source": [
    "Coincident Falure Diversity"
   ]
  },
  {
   "cell_type": "code",
   "execution_count": 42,
   "metadata": {},
   "outputs": [],
   "source": [
    "txt_preds = load_labels(\"model_save_mmtrBig/mmtrTxt_model_run/test_labels_pred.txt\")\n",
    "img_preds = load_labels(\"model_save_mmtrBig/mmtrImg_model_run/test_labels_pred.txt\")"
   ]
  },
  {
   "cell_type": "code",
   "execution_count": 49,
   "metadata": {},
   "outputs": [
    {
     "data": {
      "text/plain": [
       "1296"
      ]
     },
     "execution_count": 49,
     "metadata": {},
     "output_type": "execute_result"
    }
   ],
   "source": [
    "txt_gold = load_labels(\"model_save_mmtrBig/mmtrTxt_model_run/test_labels_gold.txt\")\n",
    "np.sum(np.all(np.equal(txt_preds, txt_gold), axis=1))"
   ]
  },
  {
   "cell_type": "code",
   "execution_count": 51,
   "metadata": {},
   "outputs": [
    {
     "data": {
      "text/plain": [
       "1291"
      ]
     },
     "execution_count": 51,
     "metadata": {},
     "output_type": "execute_result"
    }
   ],
   "source": [
    "img_gold = load_labels(\"model_save_mmtrBig/mmtrImg_model_run/test_labels_gold.txt\")\n",
    "np.sum(np.all(np.equal(img_preds, img_gold), axis=1))"
   ]
  },
  {
   "cell_type": "code",
   "execution_count": 52,
   "metadata": {},
   "outputs": [],
   "source": [
    "txt_bool = np.all(np.equal(txt_preds, txt_gold), axis=1)\n",
    "img_bool = np.all(np.equal(img_preds, img_gold), axis=1)"
   ]
  },
  {
   "cell_type": "code",
   "execution_count": 83,
   "metadata": {},
   "outputs": [],
   "source": [
    "p0 = np.logical_and(txt_bool, img_bool)\n",
    "p1 = np.logical_xor(txt_bool, img_bool)\n",
    "p2 = ~np.logical_or(p0, p1)"
   ]
  },
  {
   "cell_type": "code",
   "execution_count": 84,
   "metadata": {},
   "outputs": [],
   "source": [
    "p0 = np.sum(p0)/p0.shape[0]\n",
    "p1 = np.sum(p1)/p1.shape[0]\n",
    "p2 = np.sum(p2)/p2.shape[0]"
   ]
  },
  {
   "cell_type": "code",
   "execution_count": 88,
   "metadata": {},
   "outputs": [],
   "source": [
    "cdf = (1./1.-p0) * (p1)"
   ]
  },
  {
   "cell_type": "code",
   "execution_count": 90,
   "metadata": {},
   "outputs": [
    {
     "data": {
      "text/plain": [
       "0.1322353836250685"
      ]
     },
     "execution_count": 90,
     "metadata": {},
     "output_type": "execute_result"
    }
   ],
   "source": [
    "cdf"
   ]
  },
  {
   "cell_type": "markdown",
   "metadata": {},
   "source": [
    "### Evaluation"
   ]
  },
  {
   "cell_type": "code",
   "execution_count": 1,
   "metadata": {},
   "outputs": [],
   "source": [
    "import torch\n",
    "import numpy as np\n",
    "import matplotlib.pyplot as plt\n",
    "from sklearn.metrics import f1_score\n",
    "from sklearn.metrics import average_precision_score, roc_auc_score, precision_recall_curve"
   ]
  },
  {
   "cell_type": "code",
   "execution_count": 2,
   "metadata": {},
   "outputs": [],
   "source": [
    "def load_labels(path):\n",
    "    with open(path, \"r\") as f:\n",
    "        all_preds = f.readlines()\n",
    "    preds_processed = [[int(e) for e in pred.strip('\\n').split()] for pred in all_preds]\n",
    "    return np.array(preds_processed)"
   ]
  },
  {
   "cell_type": "code",
   "execution_count": 256,
   "metadata": {},
   "outputs": [
    {
     "name": "stdout",
     "output_type": "stream",
     "text": [
      "Gold shape: (987, 13)\n"
     ]
    }
   ],
   "source": [
    "gold_preds = load_labels(\"model_save_mmbtAdapter/HoulsbyMoviescopeMetaSeed4_model_run/test_labels_gold.txt\")\n",
    "print(f\"Gold shape: {gold_preds.shape}\")"
   ]
  },
  {
   "cell_type": "code",
   "execution_count": 257,
   "metadata": {},
   "outputs": [
    {
     "name": "stdout",
     "output_type": "stream",
     "text": [
      "Model shape: (987, 13)\n"
     ]
    }
   ],
   "source": [
    "model_preds = load_labels(\"model_save_mmbtAdapter/HoulsbyMoviescopeMetaSeed4_model_run/test_labels_pred.txt\")\n",
    "print(f\"Model shape: {model_preds.shape}\")"
   ]
  },
  {
   "cell_type": "code",
   "execution_count": 258,
   "metadata": {},
   "outputs": [
    {
     "name": "stdout",
     "output_type": "stream",
     "text": [
      "Raw preds shape: (987, 13)\n"
     ]
    }
   ],
   "source": [
    "model_preds_raw = np.load('model_save_mmbtAdapter/HoulsbyMoviescopeMetaSeed4_model_run/preds_raw.npy')\n",
    "print(f\"Raw preds shape: {model_preds_raw.shape}\")"
   ]
  },
  {
   "cell_type": "code",
   "execution_count": 259,
   "metadata": {},
   "outputs": [
    {
     "name": "stdout",
     "output_type": "stream",
     "text": [
      "AUC PR micro: 0.74663\n"
     ]
    }
   ],
   "source": [
    "auc_pr_score = average_precision_score(gold_preds, model_preds_raw, average='micro')\n",
    "print(f'AUC PR micro: {auc_pr_score:.5f}')"
   ]
  },
  {
   "cell_type": "code",
   "execution_count": 260,
   "metadata": {},
   "outputs": [
    {
     "name": "stdout",
     "output_type": "stream",
     "text": [
      "AUC PR macro: 0.72010\n"
     ]
    }
   ],
   "source": [
    "auc_pr_score = average_precision_score(gold_preds, model_preds_raw, average='macro')\n",
    "print(f'AUC PR macro: {auc_pr_score:.5f}')"
   ]
  },
  {
   "cell_type": "code",
   "execution_count": 261,
   "metadata": {},
   "outputs": [
    {
     "name": "stdout",
     "output_type": "stream",
     "text": [
      "AUC PR samples: 0.82801\n"
     ]
    }
   ],
   "source": [
    "auc_pr_score = average_precision_score(gold_preds, model_preds_raw, average='samples')\n",
    "print(f'AUC PR samples: {auc_pr_score:.5f}')"
   ]
  }
 ],
 "metadata": {
  "kernelspec": {
   "display_name": "Python 3",
   "language": "python",
   "name": "python3"
  },
  "language_info": {
   "codemirror_mode": {
    "name": "ipython",
    "version": 3
   },
   "file_extension": ".py",
   "mimetype": "text/x-python",
   "name": "python",
   "nbconvert_exporter": "python",
   "pygments_lexer": "ipython3",
   "version": "3.6.10"
  }
 },
 "nbformat": 4,
 "nbformat_minor": 4
}
